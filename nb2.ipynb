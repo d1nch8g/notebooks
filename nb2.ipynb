{
  "nbformat": 4,
  "nbformat_minor": 0,
  "metadata": {
    "colab": {
      "provenance": [],
      "collapsed_sections": [
        "Ah7dy1kFL2H9",
        "Sx9naxEGycrZ",
        "6CTlj7a_4JT9"
      ]
    },
    "kernelspec": {
      "name": "python3",
      "display_name": "Python 3"
    },
    "accelerator": "GPU"
  },
  "cells": [
    {
      "cell_type": "code",
      "metadata": {
        "id": "qrfd6FzSLrE2"
      },
      "source": [
        "from tensorflow.keras.models import Sequential # НС прямого распространения\n",
        "from tensorflow.keras.layers import Dense, Activation, Dropout, BatchNormalization # Основные слои\n",
        "from tensorflow.keras import utils # Утилиты для to_categorical\n",
        "from tensorflow.keras.preprocessing import image # Для отрисовки изображения\n",
        "from tensorflow.keras.optimizers import Adam, Adadelta # Алгоритмы оптимизации, для настройки скорости обучения\n",
        "import numpy as np # Библиотека работы с массивами\n",
        "import matplotlib.pyplot as plt # Отрисовка изображений\n",
        "from PIL import Image # Отрисовка изображений\n",
        "import pandas as pd # Библиотека pandas\n",
        "from google.colab import files # Импорт файлов\n",
        "from sklearn.preprocessing import LabelEncoder, StandardScaler # Функции для нормализации данных\n",
        "from sklearn import preprocessing # Пакет предварительной обработки данных\n",
        "from sklearn.model_selection import train_test_split\n",
        "\n",
        "# Отрисовывать изображения в ноутбуке, а не в консоль или файл\n",
        "%matplotlib inline"
      ],
      "execution_count": null,
      "outputs": []
    },
    {
      "cell_type": "markdown",
      "metadata": {
        "id": "Sx9naxEGycrZ"
      },
      "source": [
        "# Предсказание цен машин с Юлы"
      ]
    },
    {
      "cell_type": "code",
      "metadata": {
        "id": "5v7Vz9VWynjF",
        "outputId": "6f9d1c4d-eeda-466c-c373-28293d69b857",
        "colab": {
          "base_uri": "https://localhost:8080/",
          "height": 198
        }
      },
      "source": [
        "# Считываем csv с помощью pandas\n",
        "cars = pd.read_csv('cars_new.csv', sep=',')\n",
        "cars[:5] # Выводим первые 5 машин "
      ],
      "execution_count": null,
      "outputs": [
        {
          "output_type": "execute_result",
          "data": {
            "text/html": [
              "<div>\n",
              "<style scoped>\n",
              "    .dataframe tbody tr th:only-of-type {\n",
              "        vertical-align: middle;\n",
              "    }\n",
              "\n",
              "    .dataframe tbody tr th {\n",
              "        vertical-align: top;\n",
              "    }\n",
              "\n",
              "    .dataframe thead th {\n",
              "        text-align: right;\n",
              "    }\n",
              "</style>\n",
              "<table border=\"1\" class=\"dataframe\">\n",
              "  <thead>\n",
              "    <tr style=\"text-align: right;\">\n",
              "      <th></th>\n",
              "      <th>mark</th>\n",
              "      <th>model</th>\n",
              "      <th>price</th>\n",
              "      <th>year</th>\n",
              "      <th>mileage</th>\n",
              "      <th>body</th>\n",
              "      <th>kpp</th>\n",
              "      <th>fuel</th>\n",
              "      <th>volume</th>\n",
              "      <th>power</th>\n",
              "    </tr>\n",
              "  </thead>\n",
              "  <tbody>\n",
              "    <tr>\n",
              "      <th>0</th>\n",
              "      <td>kia</td>\n",
              "      <td>cerato</td>\n",
              "      <td>996000</td>\n",
              "      <td>2018</td>\n",
              "      <td>28000</td>\n",
              "      <td>седан</td>\n",
              "      <td>автомат</td>\n",
              "      <td>бензин</td>\n",
              "      <td>2.0</td>\n",
              "      <td>150.0</td>\n",
              "    </tr>\n",
              "    <tr>\n",
              "      <th>1</th>\n",
              "      <td>daewoo</td>\n",
              "      <td>nexia 1 поколение [2-й рестайлинг]</td>\n",
              "      <td>140200</td>\n",
              "      <td>2012</td>\n",
              "      <td>60500</td>\n",
              "      <td>седан</td>\n",
              "      <td>механика</td>\n",
              "      <td>бензин</td>\n",
              "      <td>1.5</td>\n",
              "      <td>80.0</td>\n",
              "    </tr>\n",
              "    <tr>\n",
              "      <th>2</th>\n",
              "      <td>suzuki</td>\n",
              "      <td>jimny 3 поколение [рестайлинг]</td>\n",
              "      <td>750000</td>\n",
              "      <td>2011</td>\n",
              "      <td>29000</td>\n",
              "      <td>внедорожник</td>\n",
              "      <td>автомат</td>\n",
              "      <td>бензин</td>\n",
              "      <td>1.3</td>\n",
              "      <td>85.0</td>\n",
              "    </tr>\n",
              "    <tr>\n",
              "      <th>3</th>\n",
              "      <td>bmw</td>\n",
              "      <td>x1 18 e84 [рестайлинг]</td>\n",
              "      <td>970000</td>\n",
              "      <td>2014</td>\n",
              "      <td>49500</td>\n",
              "      <td>кроссовер</td>\n",
              "      <td>автомат</td>\n",
              "      <td>бензин</td>\n",
              "      <td>2.0</td>\n",
              "      <td>150.0</td>\n",
              "    </tr>\n",
              "    <tr>\n",
              "      <th>4</th>\n",
              "      <td>chevrolet</td>\n",
              "      <td>lacetti 1 поколение</td>\n",
              "      <td>205000</td>\n",
              "      <td>2007</td>\n",
              "      <td>151445</td>\n",
              "      <td>седан</td>\n",
              "      <td>механика</td>\n",
              "      <td>бензин</td>\n",
              "      <td>1.4</td>\n",
              "      <td>95.0</td>\n",
              "    </tr>\n",
              "  </tbody>\n",
              "</table>\n",
              "</div>"
            ],
            "text/plain": [
              "        mark                               model   price  ...    fuel  volume  power\n",
              "0        kia                              cerato  996000  ...  бензин     2.0  150.0\n",
              "1     daewoo  nexia 1 поколение [2-й рестайлинг]  140200  ...  бензин     1.5   80.0\n",
              "2     suzuki      jimny 3 поколение [рестайлинг]  750000  ...  бензин     1.3   85.0\n",
              "3        bmw              x1 18 e84 [рестайлинг]  970000  ...  бензин     2.0  150.0\n",
              "4  chevrolet                 lacetti 1 поколение  205000  ...  бензин     1.4   95.0\n",
              "\n",
              "[5 rows x 10 columns]"
            ]
          },
          "metadata": {
            "tags": []
          },
          "execution_count": 2
        }
      ]
    },
    {
      "cell_type": "code",
      "metadata": {
        "id": "-2014jPoywVZ",
        "outputId": "ca7f8054-3f06-4e55-db5a-b002cdf5bd4c",
        "colab": {
          "base_uri": "https://localhost:8080/",
          "height": 35
        }
      },
      "source": [
        "print(cars.values.shape)"
      ],
      "execution_count": null,
      "outputs": [
        {
          "output_type": "stream",
          "text": [
            "(70119, 10)\n"
          ],
          "name": "stdout"
        }
      ]
    },
    {
      "cell_type": "code",
      "metadata": {
        "id": "w_3Pk5XeyxsT"
      },
      "source": [
        "# Создаём словарь поле - его индекс\n",
        "def create_dict(s):\n",
        "  ret = {}                          # Создаём пустой словарь\n",
        "  for _id, name in enumerate(s):    # Проходим по всем парам - id и название\n",
        "    ret.update({name: _id})         # Добавляем в словарь\n",
        "  return ret\n",
        "\n",
        "# Функция преобразования в one hot encoding\n",
        "def to_ohe(value, d):\n",
        "  arr = [0] * len(d)\n",
        "  arr[d[value]] = 1\n",
        "  return arr"
      ],
      "execution_count": null,
      "outputs": []
    },
    {
      "cell_type": "code",
      "metadata": {
        "id": "bUyCBzyYyz8s"
      },
      "source": [
        "# Создаём словари по всем текстовым колонкам\n",
        "marks_dict = create_dict(set(cars['mark']))\n",
        "models_dict = create_dict(set(cars['model']))\n",
        "bodies_dict = create_dict(set(cars['body']))\n",
        "kpps_dict = create_dict(set(cars['kpp']))\n",
        "fuels_dict = create_dict(set(cars['fuel']))\n",
        "\n",
        "# Запоминаем цены\n",
        "prices = np.array(cars['price'], dtype=np.float)\n",
        "\n",
        "# Запоминаем числовые параметры\n",
        "# и нормируем\n",
        "years = preprocessing.scale(cars['year'])\n",
        "mileages = preprocessing.scale(cars['mileage'])\n",
        "volumes = preprocessing.scale(cars['volume'])\n",
        "powers = preprocessing.scale(cars['power'])"
      ],
      "execution_count": null,
      "outputs": []
    },
    {
      "cell_type": "code",
      "metadata": {
        "id": "E_W73oeey1TF",
        "outputId": "72ed758a-7069-4d58-e83b-0de0a99ab835",
        "colab": {
          "base_uri": "https://localhost:8080/",
          "height": 55
        }
      },
      "source": [
        "print(marks_dict)"
      ],
      "execution_count": null,
      "outputs": [
        {
          "output_type": "stream",
          "text": [
            "{'hyundai': 0, 'skoda': 1, 'kia': 2, 'renault': 3, 'peugeot': 4, 'mitsubishi': 5, 'ford': 6, 'suzuki': 7, 'daewoo': 8, 'mazda': 9, 'volkswagen': 10, 'mercedes-benz': 11, 'bmw': 12, 'nissan': 13, 'chery': 14, 'opel': 15, 'honda': 16, 'audi': 17, 'subaru': 18, 'chevrolet': 19, 'toyota': 20}\n"
          ],
          "name": "stdout"
        }
      ]
    },
    {
      "cell_type": "code",
      "metadata": {
        "id": "ZnAwYOCmLbQc",
        "outputId": "cf43036b-27c6-4777-af0b-78ba58fe8459",
        "colab": {
          "base_uri": "https://localhost:8080/",
          "height": 35
        }
      },
      "source": [
        "years.mean()"
      ],
      "execution_count": null,
      "outputs": [
        {
          "output_type": "execute_result",
          "data": {
            "text/plain": [
              "7.129646144783743e-15"
            ]
          },
          "metadata": {
            "tags": []
          },
          "execution_count": 7
        }
      ]
    },
    {
      "cell_type": "code",
      "metadata": {
        "id": "_PJLhc-HLdDI",
        "outputId": "8b98ccd4-0660-43b6-b327-7f45e1ac8fbf",
        "colab": {
          "base_uri": "https://localhost:8080/",
          "height": 35
        }
      },
      "source": [
        "years.std()"
      ],
      "execution_count": null,
      "outputs": [
        {
          "output_type": "execute_result",
          "data": {
            "text/plain": [
              "1.0"
            ]
          },
          "metadata": {
            "tags": []
          },
          "execution_count": 8
        }
      ]
    },
    {
      "cell_type": "code",
      "metadata": {
        "id": "jHEPEcKfy4MV",
        "outputId": "400c3d43-da9e-4dc9-8cfe-cb982fc099a6",
        "colab": {
          "base_uri": "https://localhost:8080/",
          "height": 54
        }
      },
      "source": [
        "print(powers)"
      ],
      "execution_count": null,
      "outputs": [
        {
          "output_type": "stream",
          "text": [
            "[ 0.22905575 -0.95630346 -0.87163494 ...  0.22905575 -0.75309902\n",
            "  2.34576862]\n"
          ],
          "name": "stdout"
        }
      ]
    },
    {
      "cell_type": "code",
      "metadata": {
        "id": "fq_m4WUny4k3"
      },
      "source": [
        "# Создаём пустую обучающую выборку\n",
        "x_train = []\n",
        "y_train = []\n",
        "\n",
        "# Проходам по всем машинам\n",
        "for _id, car in enumerate(np.array(cars)):\n",
        "  # В y_train добавляем цену\n",
        "  y_train.append(prices[_id])\n",
        "  \n",
        "  # В x_train объединяем все параметры\n",
        "  # Категорийные параметры добавляем в виде ohe\n",
        "  # Числовые параметры добавляем напрямую\n",
        "  x_tr = to_ohe(car[0], marks_dict) + \\\n",
        "        to_ohe(car[1], models_dict) + \\\n",
        "        to_ohe(car[5], bodies_dict) + \\\n",
        "        to_ohe(car[6], kpps_dict) + \\\n",
        "        to_ohe(car[7], fuels_dict) + \\\n",
        "        [years[_id]] + \\\n",
        "        [mileages[_id]] + \\\n",
        "        [volumes[_id]] + \\\n",
        "        [powers[_id]]\n",
        "  \n",
        "  # Добавляем текущую строку в общий x_train\n",
        "  x_train.append(x_tr)\n",
        "\n",
        "# Превращаем лист в numpy.array\n",
        "x_train = np.array(x_train, dtype=np.float)\n",
        "y_train = np.array(y_train, dtype=np.float)"
      ],
      "execution_count": null,
      "outputs": []
    },
    {
      "cell_type": "code",
      "metadata": {
        "id": "S2IuqIWPy-nr",
        "outputId": "b8913e17-2f76-4a9b-f50f-0b83346bccbe",
        "colab": {
          "base_uri": "https://localhost:8080/",
          "height": 54
        }
      },
      "source": [
        "# Выводим размеры выборок\n",
        "print(x_train.shape)\n",
        "print(y_train.shape)"
      ],
      "execution_count": null,
      "outputs": [
        {
          "output_type": "stream",
          "text": [
            "(70119, 3208)\n",
            "(70119,)\n"
          ],
          "name": "stdout"
        }
      ]
    },
    {
      "cell_type": "code",
      "metadata": {
        "id": "tyNIVawgzDX6",
        "outputId": "a70d2bc2-f83d-4299-f0ad-faa3298c13e5",
        "colab": {
          "base_uri": "https://localhost:8080/",
          "height": 108
        }
      },
      "source": [
        "# Выводим один x_train\n",
        "print(x_train[0,:20])\n",
        "print(x_train[0,-20:])"
      ],
      "execution_count": null,
      "outputs": [
        {
          "output_type": "stream",
          "text": [
            "[0. 0. 1. 0. 0. 0. 0. 0. 0. 0. 0. 0. 0. 0. 0. 0. 0. 0. 0. 0.]\n",
            "[ 0.          0.          0.          0.          1.          0.\n",
            "  0.          1.          0.          0.          0.          0.\n",
            "  0.          0.          0.          1.          1.5200145  -1.40018212\n",
            "  0.12288486  0.22905575]\n"
          ],
          "name": "stdout"
        }
      ]
    },
    {
      "cell_type": "code",
      "metadata": {
        "id": "E06CfFFtzE4b",
        "outputId": "4b6a2eed-aea5-413d-bfcd-7ac96f6cb304",
        "colab": {
          "base_uri": "https://localhost:8080/",
          "height": 54
        }
      },
      "source": [
        "# Выводим y_train\n",
        "print(y_train[:10])"
      ],
      "execution_count": null,
      "outputs": [
        {
          "output_type": "stream",
          "text": [
            "[ 996000.  140200.  750000.  970000.  205000.  985000.  589000.  500000.\n",
            " 1320000.  270000.]\n"
          ],
          "name": "stdout"
        }
      ]
    },
    {
      "cell_type": "code",
      "metadata": {
        "id": "tetSCI-BzITK"
      },
      "source": [
        "# Нормализуем y_train\n",
        "y_scaler = StandardScaler()\n",
        "y_train_scaled = y_scaler.fit_transform(y_train.reshape(-1,1)).flatten()\n",
        "\n",
        "# y_train.reshape(-1,1) добавляет одну размерность\n",
        "# Это нужно потому, что y_scaler.fit_transform\n",
        "# Требует двумерны вектор, массив примеров, которые надо нормализовать\n",
        "# Он не умеет работать с одним примеров\n",
        "# Поэтому мы делаем массив из одного примера\n",
        "# На выходе он так же выдаёт массив примеров\n",
        "# Но нам нужен только первый пример\n",
        "# Поэтому мы делаем flatten() - уменьшение размерности"
      ],
      "execution_count": null,
      "outputs": []
    },
    {
      "cell_type": "code",
      "metadata": {
        "id": "n3hq9mYkOEGK",
        "outputId": "33d87475-242e-4712-8ef3-42645c303a51",
        "colab": {
          "base_uri": "https://localhost:8080/",
          "height": 35
        }
      },
      "source": [
        "y_train_scaled.shape"
      ],
      "execution_count": null,
      "outputs": [
        {
          "output_type": "execute_result",
          "data": {
            "text/plain": [
              "(70119,)"
            ]
          },
          "metadata": {
            "tags": []
          },
          "execution_count": 15
        }
      ]
    },
    {
      "cell_type": "code",
      "metadata": {
        "id": "v2k03NYbzI6q",
        "outputId": "b9428cd8-ae4c-4820-f64f-0c82303bad1d",
        "colab": {
          "base_uri": "https://localhost:8080/",
          "height": 90
        }
      },
      "source": [
        "# Выводим базовый и нормированный y_train\n",
        "print(y_train[:10])\n",
        "print(y_train_scaled[:10])"
      ],
      "execution_count": null,
      "outputs": [
        {
          "output_type": "stream",
          "text": [
            "[ 996000.  140200.  750000.  970000.  205000.  985000.  589000.  500000.\n",
            " 1320000.  270000.]\n",
            "[ 0.75082432 -0.62135434  0.3563911   0.70913625 -0.51745486  0.73318706\n",
            "  0.09824578 -0.04445567  1.27032173 -0.4132347 ]\n"
          ],
          "name": "stdout"
        }
      ]
    },
    {
      "cell_type": "code",
      "metadata": {
        "id": "aV17gcQGTSgt",
        "outputId": "9effe725-4ae2-4053-f3c6-061b7860f033",
        "colab": {
          "base_uri": "https://localhost:8080/",
          "height": 126
        }
      },
      "source": [
        "xTrain, xTest, yTrain, yTest = train_test_split(x_train, y_train_scaled, test_size=0.1, shuffle = True)\n",
        "xTrain, xVal, yTrain, yVal = train_test_split(xTrain, yTrain, test_size = 0.2, shuffle=True)\n",
        "print(xTrain.shape)\n",
        "print(xVal.shape)\n",
        "print(xTest.shape)\n",
        "print(yTrain.shape)\n",
        "print(yVal.shape)\n",
        "print(yTest.shape)"
      ],
      "execution_count": null,
      "outputs": [
        {
          "output_type": "stream",
          "text": [
            "(50485, 3208)\n",
            "(12622, 3208)\n",
            "(7012, 3208)\n",
            "(50485,)\n",
            "(12622,)\n",
            "(7012,)\n"
          ],
          "name": "stdout"
        }
      ]
    },
    {
      "cell_type": "code",
      "metadata": {
        "id": "vtbM2Pqh8k2X",
        "outputId": "71225c1a-e093-4b25-b2bf-ea979e76ca40",
        "colab": {
          "base_uri": "https://localhost:8080/",
          "height": 35
        }
      },
      "source": [
        "yTrain.min()"
      ],
      "execution_count": null,
      "outputs": [
        {
          "output_type": "execute_result",
          "data": {
            "text/plain": [
              "-0.8204950196272253"
            ]
          },
          "metadata": {
            "tags": []
          },
          "execution_count": 18
        }
      ]
    },
    {
      "cell_type": "code",
      "metadata": {
        "id": "NVlL-T-_83bM",
        "outputId": "f9f5a917-64d3-42ff-e115-3c0204d1d6a4",
        "colab": {
          "base_uri": "https://localhost:8080/",
          "height": 35
        }
      },
      "source": [
        "yTrain.max()"
      ],
      "execution_count": null,
      "outputs": [
        {
          "output_type": "execute_result",
          "data": {
            "text/plain": [
              "38.436834251852716"
            ]
          },
          "metadata": {
            "tags": []
          },
          "execution_count": 19
        }
      ]
    },
    {
      "cell_type": "code",
      "metadata": {
        "id": "QLwElwumTv4V"
      },
      "source": [
        "model = Sequential()\n",
        "\n",
        "model.add(Dense(32, input_dim=xTrain.shape[1], activation='relu'))\n",
        "model.add(Dropout(0.2))\n",
        "model.add(Dense(16,  activation='tanh'))\n",
        "model.add(Dropout(0.2))\n",
        "model.add(Dense(1, activation='linear'))\n",
        "\n",
        "model.compile(loss='mse', optimizer=Adam(0.01))"
      ],
      "execution_count": null,
      "outputs": []
    },
    {
      "cell_type": "code",
      "metadata": {
        "id": "0LZC4PsVUOEj",
        "outputId": "de05a834-f411-4f21-e417-b7a2aeae46f0",
        "colab": {
          "base_uri": "https://localhost:8080/",
          "height": 1000
        }
      },
      "source": [
        "history = model.fit(xTrain, yTrain, batch_size=2048, epochs=30, validation_data=(xVal, yVal), verbose=1)"
      ],
      "execution_count": null,
      "outputs": [
        {
          "output_type": "stream",
          "text": [
            "Epoch 1/30\n",
            "25/25 [==============================] - 1s 23ms/step - loss: 0.4419 - val_loss: 0.2481\n",
            "Epoch 2/30\n",
            "25/25 [==============================] - 1s 25ms/step - loss: 0.2558 - val_loss: 0.1797\n",
            "Epoch 3/30\n",
            "25/25 [==============================] - 1s 24ms/step - loss: 0.2128 - val_loss: 0.1545\n",
            "Epoch 4/30\n",
            "25/25 [==============================] - 1s 21ms/step - loss: 0.1838 - val_loss: 0.1365\n",
            "Epoch 5/30\n",
            "25/25 [==============================] - 0s 20ms/step - loss: 0.1697 - val_loss: 0.1286\n",
            "Epoch 6/30\n",
            "25/25 [==============================] - 1s 21ms/step - loss: 0.1597 - val_loss: 0.1220\n",
            "Epoch 7/30\n",
            "25/25 [==============================] - 0s 20ms/step - loss: 0.1619 - val_loss: 0.1212\n",
            "Epoch 8/30\n",
            "25/25 [==============================] - 0s 20ms/step - loss: 0.1468 - val_loss: 0.1071\n",
            "Epoch 9/30\n",
            "25/25 [==============================] - 1s 22ms/step - loss: 0.1398 - val_loss: 0.1019\n",
            "Epoch 10/30\n",
            "25/25 [==============================] - 1s 20ms/step - loss: 0.1373 - val_loss: 0.1049\n",
            "Epoch 11/30\n",
            "25/25 [==============================] - 1s 21ms/step - loss: 0.1294 - val_loss: 0.0967\n",
            "Epoch 12/30\n",
            "25/25 [==============================] - 1s 21ms/step - loss: 0.1306 - val_loss: 0.1101\n",
            "Epoch 13/30\n",
            "25/25 [==============================] - 1s 21ms/step - loss: 0.1274 - val_loss: 0.0936\n",
            "Epoch 14/30\n",
            "25/25 [==============================] - 0s 20ms/step - loss: 0.1289 - val_loss: 0.0923\n",
            "Epoch 15/30\n",
            "25/25 [==============================] - 1s 20ms/step - loss: 0.1191 - val_loss: 0.0862\n",
            "Epoch 16/30\n",
            "25/25 [==============================] - 1s 21ms/step - loss: 0.1161 - val_loss: 0.0876\n",
            "Epoch 17/30\n",
            "25/25 [==============================] - 1s 20ms/step - loss: 0.1155 - val_loss: 0.0831\n",
            "Epoch 18/30\n",
            "25/25 [==============================] - 1s 21ms/step - loss: 0.1103 - val_loss: 0.0953\n",
            "Epoch 19/30\n",
            "25/25 [==============================] - 1s 21ms/step - loss: 0.1210 - val_loss: 0.0933\n",
            "Epoch 20/30\n",
            "25/25 [==============================] - 1s 20ms/step - loss: 0.1298 - val_loss: 0.0827\n",
            "Epoch 21/30\n",
            "25/25 [==============================] - 1s 21ms/step - loss: 0.1129 - val_loss: 0.0980\n",
            "Epoch 22/30\n",
            "25/25 [==============================] - 1s 20ms/step - loss: 0.1099 - val_loss: 0.0908\n",
            "Epoch 23/30\n",
            "25/25 [==============================] - 1s 20ms/step - loss: 0.1183 - val_loss: 0.1093\n",
            "Epoch 24/30\n",
            "25/25 [==============================] - 1s 20ms/step - loss: 0.1051 - val_loss: 0.0971\n",
            "Epoch 25/30\n",
            "25/25 [==============================] - 1s 20ms/step - loss: 0.1085 - val_loss: 0.0833\n",
            "Epoch 26/30\n",
            "25/25 [==============================] - 1s 20ms/step - loss: 0.1006 - val_loss: 0.0847\n",
            "Epoch 27/30\n",
            "25/25 [==============================] - 1s 22ms/step - loss: 0.0999 - val_loss: 0.0921\n",
            "Epoch 28/30\n",
            "25/25 [==============================] - 0s 20ms/step - loss: 0.1044 - val_loss: 0.0755\n",
            "Epoch 29/30\n",
            "25/25 [==============================] - 1s 21ms/step - loss: 0.0985 - val_loss: 0.0802\n",
            "Epoch 30/30\n",
            "25/25 [==============================] - 1s 21ms/step - loss: 0.1021 - val_loss: 0.0792\n"
          ],
          "name": "stdout"
        }
      ]
    },
    {
      "cell_type": "code",
      "metadata": {
        "id": "kW3srr5gVj2n",
        "outputId": "e0746df3-9b56-4259-8730-3229cbd952e8",
        "colab": {
          "base_uri": "https://localhost:8080/",
          "height": 265
        }
      },
      "source": [
        "plt.plot(history.history['loss'])\n",
        "plt.plot(history.history['val_loss'])\n",
        "plt.show()"
      ],
      "execution_count": null,
      "outputs": [
        {
          "output_type": "display_data",
          "data": {
            "image/png": "[encoded data removed]",
            "text/plain": [
              "<Figure size 432x288 with 1 Axes>"
            ]
          },
          "metadata": {
            "tags": [],
            "needs_background": "light"
          }
        }
      ]
    },
    {
      "cell_type": "code",
      "metadata": {
        "id": "_JzR2hZmb-d1",
        "outputId": "2cfba544-e2ee-4870-c77b-de1455098ea8",
        "colab": {
          "base_uri": "https://localhost:8080/",
          "height": 1000
        }
      },
      "source": [
        "model.compile(loss='mse', optimizer=Adam(0.0001))\n",
        "history = model.fit(xTrain, yTrain, batch_size=1024, epochs=30, validation_data=(xVal, yVal), verbose=1)"
      ],
      "execution_count": null,
      "outputs": [
        {
          "output_type": "stream",
          "text": [
            "Epoch 1/30\n",
            "50/50 [==============================] - 1s 13ms/step - loss: 0.1000 - val_loss: 0.0741\n",
            "Epoch 2/30\n",
            "50/50 [==============================] - 1s 12ms/step - loss: 0.0933 - val_loss: 0.0725\n",
            "Epoch 3/30\n",
            "50/50 [==============================] - 1s 11ms/step - loss: 0.0855 - val_loss: 0.0719\n",
            "Epoch 4/30\n",
            "50/50 [==============================] - 1s 11ms/step - loss: 0.0889 - val_loss: 0.0704\n",
            "Epoch 5/30\n",
            "50/50 [==============================] - 1s 12ms/step - loss: 0.0941 - val_loss: 0.0703\n",
            "Epoch 6/30\n",
            "50/50 [==============================] - 1s 11ms/step - loss: 0.0890 - val_loss: 0.0694\n",
            "Epoch 7/30\n",
            "50/50 [==============================] - 1s 11ms/step - loss: 0.0832 - val_loss: 0.0691\n",
            "Epoch 8/30\n",
            "50/50 [==============================] - 1s 11ms/step - loss: 0.0854 - val_loss: 0.0691\n",
            "Epoch 9/30\n",
            "50/50 [==============================] - 1s 13ms/step - loss: 0.0915 - val_loss: 0.0689\n",
            "Epoch 10/30\n",
            "50/50 [==============================] - 1s 11ms/step - loss: 0.0867 - val_loss: 0.0690\n",
            "Epoch 11/30\n",
            "50/50 [==============================] - 1s 11ms/step - loss: 0.0947 - val_loss: 0.0689\n",
            "Epoch 12/30\n",
            "50/50 [==============================] - 1s 12ms/step - loss: 0.0907 - val_loss: 0.0690\n",
            "Epoch 13/30\n",
            "50/50 [==============================] - 1s 11ms/step - loss: 0.0920 - val_loss: 0.0694\n",
            "Epoch 14/30\n",
            "50/50 [==============================] - 1s 11ms/step - loss: 0.0894 - val_loss: 0.0687\n",
            "Epoch 15/30\n",
            "50/50 [==============================] - 1s 11ms/step - loss: 0.0881 - val_loss: 0.0685\n",
            "Epoch 16/30\n",
            "50/50 [==============================] - 1s 12ms/step - loss: 0.0887 - val_loss: 0.0686\n",
            "Epoch 17/30\n",
            "50/50 [==============================] - 1s 11ms/step - loss: 0.0867 - val_loss: 0.0690\n",
            "Epoch 18/30\n",
            "50/50 [==============================] - 1s 12ms/step - loss: 0.0850 - val_loss: 0.0688\n",
            "Epoch 19/30\n",
            "50/50 [==============================] - 1s 11ms/step - loss: 0.0784 - val_loss: 0.0679\n",
            "Epoch 20/30\n",
            "50/50 [==============================] - 1s 11ms/step - loss: 0.0850 - val_loss: 0.0679\n",
            "Epoch 21/30\n",
            "50/50 [==============================] - 1s 11ms/step - loss: 0.0831 - val_loss: 0.0680\n",
            "Epoch 22/30\n",
            "50/50 [==============================] - 1s 11ms/step - loss: 0.0996 - val_loss: 0.0674\n",
            "Epoch 23/30\n",
            "50/50 [==============================] - 1s 12ms/step - loss: 0.0793 - val_loss: 0.0682\n",
            "Epoch 24/30\n",
            "50/50 [==============================] - 1s 11ms/step - loss: 0.0819 - val_loss: 0.0675\n",
            "Epoch 25/30\n",
            "50/50 [==============================] - 1s 12ms/step - loss: 0.0860 - val_loss: 0.0682\n",
            "Epoch 26/30\n",
            "50/50 [==============================] - 1s 11ms/step - loss: 0.0843 - val_loss: 0.0678\n",
            "Epoch 27/30\n",
            "50/50 [==============================] - 1s 12ms/step - loss: 0.0806 - val_loss: 0.0682\n",
            "Epoch 28/30\n",
            "50/50 [==============================] - 1s 12ms/step - loss: 0.0913 - val_loss: 0.0677\n",
            "Epoch 29/30\n",
            "50/50 [==============================] - 1s 11ms/step - loss: 0.0874 - val_loss: 0.0681\n",
            "Epoch 30/30\n",
            "50/50 [==============================] - 1s 11ms/step - loss: 0.0845 - val_loss: 0.0678\n"
          ],
          "name": "stdout"
        }
      ]
    },
    {
      "cell_type": "code",
      "metadata": {
        "id": "zXtbBqhhh1mb",
        "outputId": "256e3926-d6b4-40cc-f151-1b616ca83d43",
        "colab": {
          "base_uri": "https://localhost:8080/",
          "height": 265
        }
      },
      "source": [
        "plt.plot(history.history['loss'])\n",
        "plt.plot(history.history['val_loss'])\n",
        "plt.show()"
      ],
      "execution_count": null,
      "outputs": [
        {
          "output_type": "display_data",
          "data": {
            "image/png": "[encoded data removed]",
            "text/plain": [
              "<Figure size 432x288 with 1 Axes>"
            ]
          },
          "metadata": {
            "tags": [],
            "needs_background": "light"
          }
        }
      ]
    },
    {
      "cell_type": "code",
      "metadata": {
        "id": "ItvpgfEIgEXM"
      },
      "source": [
        "model.load_weights('model.h5')"
      ],
      "execution_count": null,
      "outputs": []
    },
    {
      "cell_type": "code",
      "metadata": {
        "id": "nRhXUb0TCbUp"
      },
      "source": [
        "predict = model.predict(xTest)"
      ],
      "execution_count": null,
      "outputs": []
    },
    {
      "cell_type": "code",
      "metadata": {
        "id": "TKLON-M5YBb7"
      },
      "source": [
        "predict_inverse = y_scaler.inverse_transform(predict).flatten()"
      ],
      "execution_count": null,
      "outputs": []
    },
    {
      "cell_type": "code",
      "metadata": {
        "id": "wC8RCsGUYDdy"
      },
      "source": [
        "yTrainReal = y_scaler.inverse_transform(yTest).flatten()"
      ],
      "execution_count": null,
      "outputs": []
    },
    {
      "cell_type": "code",
      "metadata": {
        "id": "tYIhqbT7YP0q",
        "outputId": "583b2348-aa44-43af-da39-abdd9d6e2326",
        "colab": {
          "base_uri": "https://localhost:8080/",
          "height": 34
        }
      },
      "source": [
        "yTrainReal[1]"
      ],
      "execution_count": null,
      "outputs": [
        {
          "output_type": "execute_result",
          "data": {
            "text/plain": [
              "395000.0"
            ]
          },
          "metadata": {
            "tags": []
          },
          "execution_count": 73
        }
      ]
    },
    {
      "cell_type": "code",
      "metadata": {
        "id": "OadqsX-VYaM6",
        "outputId": "fb4217bd-b5b0-4691-abd3-75a7e66b218c",
        "colab": {
          "base_uri": "https://localhost:8080/",
          "height": 34
        }
      },
      "source": [
        "predict_inverse[1]"
      ],
      "execution_count": null,
      "outputs": [
        {
          "output_type": "execute_result",
          "data": {
            "text/plain": [
              "332740.53"
            ]
          },
          "metadata": {
            "tags": []
          },
          "execution_count": 74
        }
      ]
    },
    {
      "cell_type": "code",
      "metadata": {
        "id": "rPnaMXtUcmuz",
        "outputId": "a722a960-33be-4c82-a976-4d13f61c5f76",
        "colab": {
          "base_uri": "https://localhost:8080/",
          "height": 68
        }
      },
      "source": [
        "delta = yTrainReal - predict_inverse\n",
        "abs_delta = abs(delta)\n",
        "mean_delta = sum(abs_delta)/len(abs_delta)\n",
        "mean_price = sum(yTrainReal)/len(yTrainReal)\n",
        "print(\"Средняя ошибка: \", round(mean_delta))\n",
        "print(\"Средняя цена: \", round(mean_price))\n",
        "print(\"Процент ошибки: \", round(100*mean_delta / mean_price), \"%\", sep=\"\")"
      ],
      "execution_count": null,
      "outputs": [
        {
          "output_type": "stream",
          "text": [
            "Средняя ошибка:  66612.0\n",
            "Средняя цена:  540870.0\n",
            "Процент ошибки: 12.0%\n"
          ],
          "name": "stdout"
        }
      ]
    }
  ]
}