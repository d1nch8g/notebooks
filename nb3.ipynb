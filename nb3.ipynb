{
  "cells": [
    {
      "cell_type": "markdown",
      "metadata": {
        "id": "b7CgXf3PW-7S"
      },
      "source": [
        "*Теоретический материал:* https://youtu.be/shzJQxepN-s?t=868"
      ]
    },
    {
      "cell_type": "markdown",
      "metadata": {
        "id": "a4DAOEtDLMOY"
      },
      "source": [
        "**Распознавание изображений из набора данных MNIST, CIFAR-10 и базы автомобилей с помощью свёрточных нейронных сетей**\n",
        "---\n",
        "\n",
        "*Разбор данного раздела:* https://youtu.be/shzJQxepN-s?t=3486\n",
        "\n",
        "Чтобы запускать и редактировать код, сохраните копию этого ноутбука себе (File->Save a copy in Drive...). Свою копию вы сможете изменять и запускать.\n",
        "\n"
      ]
    },
    {
      "cell_type": "markdown",
      "metadata": {
        "id": "y-LN-dZhMNj7"
      },
      "source": [
        "**Иморт библиотек для работы всего ноутбука**"
      ]
    },
    {
      "cell_type": "code",
      "execution_count": null,
      "metadata": {
        "id": "3b4wMrfQKe2l",
        "vscode": {
          "languageId": "python"
        }
      },
      "outputs": [],
      "source": [
        "from tensorflow.keras.datasets import mnist #Загружаем базу mnist\n",
        "from tensorflow.keras.datasets import cifar10 #Загружаем базу cifar10\n",
        "from tensorflow.keras.datasets import cifar100 #Загружаем базу cifar100\n",
        "\n",
        "from tensorflow.keras.models import Sequential #Сеть прямого распространения\n",
        "#Базовые слои для счёрточных сетей\n",
        "from tensorflow.keras.layers import Dense, Conv2D, MaxPooling2D, Flatten, Dropout, BatchNormalization\n",
        "from tensorflow.python.keras.preprocessing.image import ImageDataGenerator # работа с изображениями\n",
        "from tensorflow.keras.optimizers import Adam, Adadelta # оптимизаторы\n",
        "from tensorflow.keras import utils #Используем дял to_categoricall\n",
        "from tensorflow.keras.preprocessing import image #Для отрисовки изображений\n",
        "from google.colab import files #Для загрузки своей картинки\n",
        "import numpy as np #Библиотека работы с массивами\n",
        "import matplotlib.pyplot as plt #Для отрисовки графиков\n",
        "from PIL import Image #Для отрисовки изображений\n",
        "import random #Для генерации случайных чисел \n",
        "import math # Для округления\n",
        "import os #Для работы с файлами \n",
        "# подключем диск\n",
        "from google.colab import drive\n",
        "\n",
        "%matplotlib inline"
      ]
    },
    {
      "cell_type": "code",
      "execution_count": null,
      "metadata": {
        "colab": {
          "base_uri": "https://localhost:8080/",
          "height": 34
        },
        "id": "92GfFwVWXB7z",
        "outputId": "c8ca5714-2e5d-449e-d688-0a89fc6b74fa",
        "vscode": {
          "languageId": "python"
        }
      },
      "outputs": [
        {
          "name": "stdout",
          "output_type": "stream",
          "text": [
            "Mounted at /content/drive\n"
          ]
        }
      ],
      "source": [
        "from google.colab import drive\n",
        "drive.mount('/content/drive')"
      ]
    },
    {
      "cell_type": "markdown",
      "metadata": {
        "id": "7A0tdANyLCPs"
      },
      "source": [
        "# Распознавание изображений из набора данных MNIST \n"
      ]
    },
    {
      "cell_type": "markdown",
      "metadata": {
        "id": "a-cggImwMCQP"
      },
      "source": [
        "**Подготовка данных**\n",
        "\n",
        "*Разбор данного раздела:* https://youtu.be/shzJQxepN-s?t=3575"
      ]
    },
    {
      "cell_type": "code",
      "execution_count": null,
      "metadata": {
        "colab": {
          "base_uri": "https://localhost:8080/",
          "height": 51
        },
        "id": "_PT1LV_KMVto",
        "outputId": "7b49bbdb-e721-4b05-8ad0-7c27e8053fca",
        "vscode": {
          "languageId": "python"
        }
      },
      "outputs": [
        {
          "name": "stdout",
          "output_type": "stream",
          "text": [
            "Downloading data from https://storage.googleapis.com/tensorflow/tf-keras-datasets/mnist.npz\n",
            "11493376/11490434 [==============================] - 0s 0us/step\n"
          ]
        }
      ],
      "source": [
        "#Загружаем MNIST\n",
        "(x_train, y_train), (x_test, y_test) = mnist.load_data()"
      ]
    },
    {
      "cell_type": "code",
      "execution_count": null,
      "metadata": {
        "colab": {
          "base_uri": "https://localhost:8080/",
          "height": 34
        },
        "id": "nft2zSCpVWYV",
        "outputId": "18f886fc-d0e1-4a6c-e8f7-04a18f86e076",
        "vscode": {
          "languageId": "python"
        }
      },
      "outputs": [
        {
          "data": {
            "text/plain": [
              "(60000, 28, 28)"
            ]
          },
          "execution_count": 4,
          "metadata": {
            "tags": []
          },
          "output_type": "execute_result"
        }
      ],
      "source": [
        "x_train.shape"
      ]
    },
    {
      "cell_type": "code",
      "execution_count": null,
      "metadata": {
        "colab": {
          "base_uri": "https://localhost:8080/",
          "height": 139
        },
        "id": "vNoGJvE_M3YW",
        "outputId": "ab399abd-596f-429f-ca7b-ac422cdb2615",
        "vscode": {
          "languageId": "python"
        }
      },
      "outputs": [
        {
          "data": {
            "image/png": "[encoded data removed]",
            "text/plain": [
              "<Figure size 1800x216 with 10 Axes>"
            ]
          },
          "metadata": {
            "needs_background": "light",
            "tags": []
          },
          "output_type": "display_data"
        }
      ],
      "source": [
        "#Выводим для примера картинки по каждому классу\n",
        "\n",
        "fig, axs = plt.subplots(1, 10, figsize=(25, 3)) #Создаем полотно из 10 графиков\n",
        "for i in range(10): #Проходим по классам от 0 до 9\n",
        "  label_indexes = np.where(y_train==i)[0] #Получаем список из индексов положений класса i в y_train\n",
        "  index = random.choice(label_indexes) #Случайным образом выбираем из списка индекс\n",
        "  img = x_train[index] #Выбираем из x_train нужное изображение\n",
        "  axs[i].imshow(Image.fromarray(img), cmap='gray') #Отображаем изображение i-ым графиков\n",
        "\n",
        "plt.show() #Показываем изображения"
      ]
    },
    {
      "cell_type": "code",
      "execution_count": null,
      "metadata": {
        "id": "ti92Kvp3NX61",
        "vscode": {
          "languageId": "python"
        }
      },
      "outputs": [],
      "source": [
        "#Превращаем y_train и y_test сетей в формат one hot encoding\n",
        "y_train = utils.to_categorical(y_train, 10)\n",
        "y_test = utils.to_categorical(y_test, 10)\n",
        "\n",
        "#Меняем формат данных MNIST\n",
        "#Надо добавить в конце размерность 1\n",
        "#Чтобы свёрточная сеть понимала, что это чёрно-белые данные\n",
        "x_train = x_train.reshape(x_train.shape[0], 28, 28, 1)\n",
        "x_test = x_test.reshape(x_test.shape[0], 28, 28, 1)"
      ]
    },
    {
      "cell_type": "code",
      "execution_count": null,
      "metadata": {
        "colab": {
          "base_uri": "https://localhost:8080/",
          "height": 85
        },
        "id": "tZwKJRB7dW3q",
        "outputId": "9ea16dad-98ab-468e-caa8-673653210f31",
        "vscode": {
          "languageId": "python"
        }
      },
      "outputs": [
        {
          "name": "stdout",
          "output_type": "stream",
          "text": [
            "(60000, 28, 28, 1)\n",
            "(10000, 28, 28, 1)\n",
            "(60000, 10)\n",
            "(10000, 10)\n"
          ]
        }
      ],
      "source": [
        "# Посмотрим форматы выборок перед обучением\n",
        "print(x_train.shape)\n",
        "print(x_test.shape)\n",
        "print(y_train.shape)\n",
        "print(y_test.shape)"
      ]
    },
    {
      "cell_type": "markdown",
      "metadata": {
        "id": "P93UbJvKSEAX"
      },
      "source": [
        "**Нейронная сеть**\n",
        "\n",
        "*Разбор данного раздела:* https://youtu.be/shzJQxepN-s?t=3677"
      ]
    },
    {
      "cell_type": "code",
      "execution_count": null,
      "metadata": {
        "colab": {
          "base_uri": "https://localhost:8080/",
          "height": 959
        },
        "id": "5YioYV0CPY7B",
        "outputId": "c77ddd39-80f6-4451-8d4b-c0646f3ea17d",
        "vscode": {
          "languageId": "python"
        }
      },
      "outputs": [
        {
          "name": "stdout",
          "output_type": "stream",
          "text": [
            "Epoch 1/20\n",
            "469/469 [==============================] - 2s 4ms/step - loss: 0.3895 - accuracy: 0.8781 - val_loss: 0.0998 - val_accuracy: 0.9696\n",
            "Epoch 2/20\n",
            "469/469 [==============================] - 2s 3ms/step - loss: 0.1816 - accuracy: 0.9438 - val_loss: 0.0759 - val_accuracy: 0.9763\n",
            "Epoch 3/20\n",
            "469/469 [==============================] - 2s 3ms/step - loss: 0.1463 - accuracy: 0.9552 - val_loss: 0.0660 - val_accuracy: 0.9785\n",
            "Epoch 4/20\n",
            "469/469 [==============================] - 2s 3ms/step - loss: 0.1251 - accuracy: 0.9610 - val_loss: 0.0641 - val_accuracy: 0.9798\n",
            "Epoch 5/20\n",
            "469/469 [==============================] - 2s 3ms/step - loss: 0.1144 - accuracy: 0.9645 - val_loss: 0.0597 - val_accuracy: 0.9819\n",
            "Epoch 6/20\n",
            "469/469 [==============================] - 2s 3ms/step - loss: 0.1062 - accuracy: 0.9660 - val_loss: 0.0544 - val_accuracy: 0.9823\n",
            "Epoch 7/20\n",
            "469/469 [==============================] - 2s 3ms/step - loss: 0.0973 - accuracy: 0.9695 - val_loss: 0.0524 - val_accuracy: 0.9825\n",
            "Epoch 8/20\n",
            "469/469 [==============================] - 2s 3ms/step - loss: 0.0941 - accuracy: 0.9700 - val_loss: 0.0535 - val_accuracy: 0.9830\n",
            "Epoch 9/20\n",
            "469/469 [==============================] - 2s 3ms/step - loss: 0.0849 - accuracy: 0.9725 - val_loss: 0.0453 - val_accuracy: 0.9856\n",
            "Epoch 10/20\n",
            "469/469 [==============================] - 2s 3ms/step - loss: 0.0801 - accuracy: 0.9739 - val_loss: 0.0489 - val_accuracy: 0.9850\n",
            "Epoch 11/20\n",
            "469/469 [==============================] - 2s 3ms/step - loss: 0.0774 - accuracy: 0.9749 - val_loss: 0.0476 - val_accuracy: 0.9840\n",
            "Epoch 12/20\n",
            "469/469 [==============================] - 2s 3ms/step - loss: 0.0721 - accuracy: 0.9755 - val_loss: 0.0484 - val_accuracy: 0.9862\n",
            "Epoch 13/20\n",
            "469/469 [==============================] - 2s 3ms/step - loss: 0.0684 - accuracy: 0.9779 - val_loss: 0.0504 - val_accuracy: 0.9843\n",
            "Epoch 14/20\n",
            "469/469 [==============================] - 2s 3ms/step - loss: 0.0652 - accuracy: 0.9782 - val_loss: 0.0501 - val_accuracy: 0.9845\n",
            "Epoch 15/20\n",
            "469/469 [==============================] - 2s 3ms/step - loss: 0.0643 - accuracy: 0.9787 - val_loss: 0.0470 - val_accuracy: 0.9861\n",
            "Epoch 16/20\n",
            "469/469 [==============================] - 2s 3ms/step - loss: 0.0588 - accuracy: 0.9805 - val_loss: 0.0487 - val_accuracy: 0.9855\n",
            "Epoch 17/20\n",
            "469/469 [==============================] - 2s 3ms/step - loss: 0.0558 - accuracy: 0.9813 - val_loss: 0.0477 - val_accuracy: 0.9869\n",
            "Epoch 18/20\n",
            "469/469 [==============================] - 2s 3ms/step - loss: 0.0583 - accuracy: 0.9808 - val_loss: 0.0466 - val_accuracy: 0.9856\n",
            "Epoch 19/20\n",
            "469/469 [==============================] - 2s 3ms/step - loss: 0.0525 - accuracy: 0.9822 - val_loss: 0.0457 - val_accuracy: 0.9861\n",
            "Epoch 20/20\n",
            "469/469 [==============================] - 2s 3ms/step - loss: 0.0505 - accuracy: 0.9828 - val_loss: 0.0464 - val_accuracy: 0.9862\n"
          ]
        },
        {
          "data": {
            "image/png": "[encoded data removed]",
            "text/plain": [
              "<Figure size 432x288 with 1 Axes>"
            ]
          },
          "metadata": {
            "needs_background": "light",
            "tags": []
          },
          "output_type": "display_data"
        }
      ],
      "source": [
        "#задаём batch_size\n",
        "batch_size = 128 \n",
        "\n",
        "#Создаем последовательную модель\n",
        "model = Sequential()\n",
        "#Слой пакетной нормализации\n",
        "model.add(BatchNormalization(input_shape=(28, 28, 1)))\n",
        "#Первый сверточный слой\n",
        "model.add(Conv2D(32, (3, 3), padding='same', activation='relu'))\n",
        "#Второй сверточный слой\n",
        "model.add(Conv2D(32, (3, 3), padding='same', activation='relu'))\n",
        "#Первый слой подвыборки\n",
        "model.add(MaxPooling2D(pool_size=(2, 2)))\n",
        "#Слой регуляризации Dropout\n",
        "model.add(Dropout(0.25))\n",
        "\n",
        "model.add(Flatten())\n",
        "#Полносвязный слой для классификации\n",
        "model.add(Dense(256, activation='relu'))\n",
        "#Слой регуляризации Dropout\n",
        "model.add(Dropout(0.25))\n",
        "#Выходной полносвязный слой\n",
        "model.add(Dense(10, activation='softmax'))\n",
        "\n",
        "#Компилируем сеть\n",
        "model.compile(loss=\"categorical_crossentropy\", optimizer=\"adam\", metrics=[\"accuracy\"])\n",
        "\n",
        "#Обучаем сеть на данных mnist\n",
        "history = model.fit(x_train, \n",
        "                    y_train, \n",
        "                    batch_size=batch_size, \n",
        "                    epochs=15,\n",
        "                    validation_data=(x_test, y_test),\n",
        "                    verbose=1)\n",
        "\n",
        "#Отображаем график точности обучения\n",
        "plt.plot(history.history['accuracy'], \n",
        "         label='Доля верных ответов на обучающем наборе')\n",
        "plt.plot(history.history['val_accuracy'], \n",
        "         label='Доля верных ответов на проверочном наборе')\n",
        "plt.xlabel('Эпоха обучения')\n",
        "plt.ylabel('Доля верных ответов')\n",
        "plt.legend()\n",
        "plt.show()"
      ]
    },
    {
      "cell_type": "code",
      "execution_count": null,
      "metadata": {
        "id": "UQ16Tld6JKie",
        "vscode": {
          "languageId": "python"
        }
      },
      "outputs": [],
      "source": [
        "np.save('/content/drive/My Drive/AIFramework/time_series/loss_shares_trend', history.history['loss'])\n",
        "np.save('/content/drive/My Drive/AIFramework/time_series/val_loss_shares_trend', history.history['val_loss'])"
      ]
    },
    {
      "cell_type": "code",
      "execution_count": null,
      "metadata": {
        "id": "3DJfoivkXWpq",
        "vscode": {
          "languageId": "python"
        }
      },
      "outputs": [],
      "source": [
        "model.summary()"
      ]
    },
    {
      "cell_type": "markdown",
      "metadata": {
        "id": "NEJGx4VISN2w"
      },
      "source": [
        "**Определение цифр из тестовой выборки**\n",
        "\n",
        "*Разбор данного раздела:* https://youtu.be/shzJQxepN-s?t=5746"
      ]
    },
    {
      "cell_type": "code",
      "execution_count": null,
      "metadata": {
        "id": "X2_KF-b0ar3i",
        "vscode": {
          "languageId": "python"
        }
      },
      "outputs": [],
      "source": [
        "#Выбираем номер пример\n",
        "n = 2020\n",
        "#Получаем выход сети на этом примере\n",
        "prediction = model.predict(x_test)\n",
        "\n",
        "#Выводим на экран результаты\n",
        "print(\"Выход сети: \", prediction[n])\n",
        "print(\"Распознанная цифра: \", np.argmax(prediction[n]))\n",
        "print(\"Верный ответ: \", np.argmax(y_test[n]))"
      ]
    },
    {
      "cell_type": "markdown",
      "metadata": {
        "id": "Y7e0r2CqanQl"
      },
      "source": [
        "**Определение цифр на реальных фотографиях**"
      ]
    },
    {
      "cell_type": "code",
      "execution_count": null,
      "metadata": {
        "id": "5Q9R7u5NTYMl",
        "vscode": {
          "languageId": "python"
        }
      },
      "outputs": [],
      "source": [
        "!unzip '/content/drive/My Drive/Занятия/Апрельский курс 2020/Занятие №3/digits.zip' #Извлечем файлы из архива"
      ]
    },
    {
      "cell_type": "code",
      "execution_count": null,
      "metadata": {
        "id": "sYIGO_QciOZ6",
        "vscode": {
          "languageId": "python"
        }
      },
      "outputs": [],
      "source": [
        "#Выводим для примера картинки по каждому классу\n",
        "\n",
        "def change_contrast(img, factor): #Функция для увеличения контрастности \n",
        "    def contrast(pixel): #Функция для изменения цвета пикселя\n",
        "    #Изменяем цвет каждого пикселя следующим образом. \n",
        "    #Если цвет пикслея в численной мере меньше 128, то значение будет уменьшаться \n",
        "    #на меру factor * (pixel - 128). Иначе - увеличиваться на эту меру\n",
        "    #Очевидно, что чем сильнее цвет отличен от 128, тем сильнее он изменится\n",
        "        return 128 + factor * (pixel - 128) \n",
        "    return img.point(contrast)\n",
        "\n",
        "xTestReal = [] #Создаем x_test для загруженных картинок\n",
        "yTestReal = [] #Создаем y_test для классов изображений\n",
        "\n",
        "for i in range(10): #Проходим по классам от 0 до 9\n",
        "  img_path = 'digits/' + str(i) + '.png' #Определяем имя изображения\n",
        "  #Загружаем изображение, изменяя его размер на размер входного массива нейросети\n",
        "  #Другими словами, подгоняем изображение к размеру картинок, на которых обучалась сеть\n",
        "  #Указываем grayscale=True для того, чтобы цвет пиксяля задавался одним числом\n",
        "  img = image.load_img(img_path, grayscale=True, target_size=(28, 28))\n",
        "  img1 = change_contrast(img, factor=5.0) #Увеличиваем контрастность изображения\n",
        "  xTestReal.append(255 - np.asarray(img1)) #Инвертируем изображение и добавляем в выборку\n",
        "  yTestReal.append(i) #Добавляем в y_train номера классов\n",
        "\n",
        "xTestReal = np.array(xTestReal) #Преобразуем в Numpy array\n",
        "yTestReal = np.array(yTestReal) #Преобразуем в Numpy array"
      ]
    },
    {
      "cell_type": "code",
      "execution_count": null,
      "metadata": {
        "id": "Yn34RXU7iYSx",
        "vscode": {
          "languageId": "python"
        }
      },
      "outputs": [],
      "source": [
        "#Выводим для примера картинки по каждому классу\n",
        "\n",
        "fig, axs = plt.subplots(1, 10, figsize=(25, 3)) #Создаем полотно из 10 графиков\n",
        "for i in range(10): #Проходим по классам от 0 до 9\n",
        "  axs[i].imshow(Image.fromarray(xTestReal[i]), cmap='gray') #Конвертируем изображение в черно-белый формат и отображаем i-ым графиков\n",
        "\n",
        "plt.show() #Показываем изображения"
      ]
    },
    {
      "cell_type": "code",
      "execution_count": null,
      "metadata": {
        "id": "JiiBmJmKlJ4K",
        "vscode": {
          "languageId": "python"
        }
      },
      "outputs": [],
      "source": [
        "#Меняем формат данных, как делали это с выборкой MNIST\n",
        "xTestReal = xTestReal.reshape(xTestReal.shape[0], 28, 28, 1)"
      ]
    },
    {
      "cell_type": "code",
      "execution_count": null,
      "metadata": {
        "id": "ZSzmaDWnmWCW",
        "vscode": {
          "languageId": "python"
        }
      },
      "outputs": [],
      "source": [
        "prediction = model.predict(xTestReal) #Классифицируем каждое изображение\n",
        "for i in range(10): #Проходим по картинкам\n",
        "  #Вводим результаты на экран\n",
        "  print(\"Распознанный образ:\", np.argmax(prediction[i]), '. Верный ответ', yTestReal[i])"
      ]
    },
    {
      "cell_type": "markdown",
      "metadata": {
        "id": "9IYEGRTWcIMa"
      },
      "source": [
        "# Распознавание изображений из набора данных Cifar10\n",
        "\n",
        "*Разбор данного раздела:* https://youtu.be/shzJQxepN-s?t=5890"
      ]
    },
    {
      "cell_type": "code",
      "execution_count": null,
      "metadata": {
        "colab": {
          "base_uri": "https://localhost:8080/",
          "height": 50
        },
        "id": "SbNV5Ql3cdB4",
        "outputId": "48c2c759-ee00-4c26-85cf-21756ec3990f",
        "vscode": {
          "languageId": "python"
        }
      },
      "outputs": [
        {
          "name": "stdout",
          "output_type": "stream",
          "text": [
            "Downloading data from https://www.cs.toronto.edu/~kriz/cifar-10-python.tar.gz\n",
            "170500096/170498071 [==============================] - 2s 0us/step\n"
          ]
        }
      ],
      "source": [
        "#Загружаем cifar10\n",
        "(x_train10, y_train10), (x_test10, y_test10) = cifar10.load_data()"
      ]
    },
    {
      "cell_type": "code",
      "execution_count": null,
      "metadata": {
        "colab": {
          "base_uri": "https://localhost:8080/",
          "height": 34
        },
        "id": "LnLys2viYuZ7",
        "outputId": "be8c65d7-a99e-45eb-b63e-9f442f852376",
        "vscode": {
          "languageId": "python"
        }
      },
      "outputs": [
        {
          "data": {
            "text/plain": [
              "(50000, 32, 32, 3)"
            ]
          },
          "execution_count": 19,
          "metadata": {
            "tags": []
          },
          "output_type": "execute_result"
        }
      ],
      "source": [
        "x_train10.shape"
      ]
    },
    {
      "cell_type": "code",
      "execution_count": null,
      "metadata": {
        "id": "mYazuCsYcr7F",
        "vscode": {
          "languageId": "python"
        }
      },
      "outputs": [],
      "source": [
        "#Определяем названия классов по порядку\n",
        "classes = ['самолет', 'автомобиль', 'птица', 'кот', 'олень', 'собака', 'лягушка', 'лошадь', 'корабль', 'грузовик']"
      ]
    },
    {
      "cell_type": "code",
      "execution_count": null,
      "metadata": {
        "id": "k_MZdoqTcdB6",
        "vscode": {
          "languageId": "python"
        }
      },
      "outputs": [],
      "source": [
        "#Выводим для примера картинки по каждому классу\n",
        "\n",
        "fig, axs = plt.subplots(1, 10, figsize=(25, 3)) #Создаем полотно из 10 графиков\n",
        "for i in range(10): #Проходим по классам от 0 до 9\n",
        "  label_indexes = np.where(y_train10==i)[0] #Получаем список из индексов положений класса i в y_train\n",
        "  index = random.choice(label_indexes) #Случайным образом выбираем из списка индекс\n",
        "  img = x_train10[index] #Выбираем из x_train нужное изображение\n",
        "  axs[i].imshow(Image.fromarray(img)) #Отображаем изображение i-ым графиков\n",
        "\n",
        "plt.show() #Показываем изображения"
      ]
    },
    {
      "cell_type": "code",
      "execution_count": null,
      "metadata": {
        "id": "B6gZ7EcUcdB9",
        "vscode": {
          "languageId": "python"
        }
      },
      "outputs": [],
      "source": [
        "#Превращаем y_train и y_test сетей в формат one hot encoding\n",
        "y_train10 = utils.to_categorical(y_train10, 10)\n",
        "y_test10 = utils.to_categorical(y_test10, 10)"
      ]
    },
    {
      "cell_type": "code",
      "execution_count": null,
      "metadata": {
        "id": "dXTrB8-TdL-1",
        "vscode": {
          "languageId": "python"
        }
      },
      "outputs": [],
      "source": [
        "# Посмотрим размеры выборок перед обучением\n",
        "print(x_train10.shape)\n",
        "print(x_test10.shape)\n",
        "print(y_train10.shape)\n",
        "print(y_test10.shape)"
      ]
    },
    {
      "cell_type": "markdown",
      "metadata": {
        "id": "dpqHnjMjcdCA"
      },
      "source": [
        "**Нейронная сеть**\n",
        "\n",
        "*Разбор данного раздела:* https://youtu.be/shzJQxepN-s?t=5991"
      ]
    },
    {
      "cell_type": "code",
      "execution_count": null,
      "metadata": {
        "id": "PPfxYVf1duG2",
        "vscode": {
          "languageId": "python"
        }
      },
      "outputs": [],
      "source": [
        "#задаём batch_size\n",
        "batch_size = 128 \n",
        "\n",
        "#Создаем последовательную модель\n",
        "model = Sequential()\n",
        "#Слой пакетной нормализации\n",
        "model.add(BatchNormalization(input_shape=(32, 32, 3)))\n",
        "#Первый сверточный слой\n",
        "model.add(Conv2D(32, (3, 3), padding='same', activation='relu'))\n",
        "#Второй сверточный слой\n",
        "model.add(Conv2D(32, (3, 3), padding='same', activation='relu'))\n",
        "#Первый слой подвыборки\n",
        "model.add(MaxPooling2D(pool_size=(2, 2)))\n",
        "#Слой регуляризации Dropout\n",
        "model.add(Dropout(0.25))\n",
        "\n",
        "#Слой пакетной нормализации\n",
        "model.add(BatchNormalization())\n",
        "#Третий сверточный слой\n",
        "model.add(Conv2D(64, (3, 3), padding='same', activation='relu'))\n",
        "#Четвертый сверточный слой\n",
        "model.add(Conv2D(64, (3, 3), padding='same', activation='relu'))\n",
        "#Второй слой подвыборки\n",
        "model.add(MaxPooling2D(pool_size=(2, 2)))\n",
        "#Слой регуляризации Dropout\n",
        "model.add(Dropout(0.25))\n",
        "\n",
        "#Слой пакетной нормализации\n",
        "model.add(BatchNormalization())\n",
        "#Пятый сверточный слой\n",
        "model.add(Conv2D(128, (3, 3), padding='same', activation='relu'))\n",
        "#Шестой сверточный слой\n",
        "model.add(Conv2D(128, (3, 3), padding='same', activation='relu'))\n",
        "#Третий слой подвыборки\n",
        "model.add(MaxPooling2D(pool_size=(2, 2)))\n",
        "#Слой регуляризации Dropout\n",
        "model.add(Dropout(0.25))\n",
        "\n",
        "#Слой преобразования данных из 2D представления в плоское\n",
        "model.add(Flatten())\n",
        "#Полносвязный слой для классификации\n",
        "model.add(Dense(512, activation='relu'))\n",
        "#Слой регуляризации Dropout\n",
        "model.add(Dropout(0.25))\n",
        "#Выходной полносвязный слой\n",
        "model.add(Dense(10, activation='softmax'))\n",
        "\n",
        "#Компилируем сеть\n",
        "model.compile(loss=\"categorical_crossentropy\", optimizer=\"adam\", metrics=[\"accuracy\"])\n",
        "\n",
        "#Обучаем сеть на данных cifar10\n",
        "history = model.fit(x_train10, \n",
        "                    y_train10, \n",
        "                    batch_size=batch_size, \n",
        "                    epochs=20,\n",
        "                    validation_data=(x_test10, y_test10),\n",
        "                    verbose=1)\n",
        "\n",
        "#Оображаем график точности обучения\n",
        "plt.plot(history.history['accuracy'], \n",
        "         label='Доля верных ответов на обучающем наборе')\n",
        "plt.plot(history.history['val_accuracy'], \n",
        "         label='Доля верных ответов на проверочном наборе')\n",
        "plt.xlabel('Эпоха обучения')\n",
        "plt.ylabel('Доля верных ответов')\n",
        "plt.legend()\n",
        "plt.show()"
      ]
    },
    {
      "cell_type": "markdown",
      "metadata": {
        "id": "WwjAVmaZgbLd"
      },
      "source": [
        "**Определение изображений из тестовой выборки**\n",
        "\n",
        "*Разбор данного раздела:* https://youtu.be/shzJQxepN-s?t=6616"
      ]
    },
    {
      "cell_type": "code",
      "execution_count": null,
      "metadata": {
        "id": "qTQEhiM1hV3l",
        "vscode": {
          "languageId": "python"
        }
      },
      "outputs": [],
      "source": [
        "#Распознаём все тестовые картинки\n",
        "prediction = model.predict(x_test10)"
      ]
    },
    {
      "cell_type": "code",
      "execution_count": null,
      "metadata": {
        "id": "oaF1locAgbLf",
        "vscode": {
          "languageId": "python"
        }
      },
      "outputs": [],
      "source": [
        "#Выбираем номер пример\n",
        "n = 2027\n",
        "\n",
        "#Выводим на экран картинку\n",
        "plt.imshow(Image.fromarray(x_test10[n]).convert('RGBA'))\n",
        "plt.show()\n",
        "\n",
        "#Выводим на экран результаты\n",
        "print(\"Выход сети: \", prediction[n])\n",
        "print(\"Распознанный образ: \", np.argmax(prediction[n]))\n",
        "print(\"Верный ответ: \", y_test10[n])\n",
        "print(\"Распознанный браз на картинке: \", classes[np.argmax(prediction[n])])"
      ]
    },
    {
      "cell_type": "markdown",
      "metadata": {
        "id": "GPoBbKQ_gbLh"
      },
      "source": [
        "**Определение фотографий из интернета**\n",
        "\n",
        "*Разбор данного раздела:* https://youtu.be/shzJQxepN-s?t=6679"
      ]
    },
    {
      "cell_type": "code",
      "execution_count": null,
      "metadata": {
        "id": "Vtny_0yLgbLk",
        "vscode": {
          "languageId": "python"
        }
      },
      "outputs": [],
      "source": [
        "!unzip '/content/drive/My Drive/Занятия/Апрельский курс 2020/Занятие №3/Images.zip' #Извлечем файлы из архива"
      ]
    },
    {
      "cell_type": "code",
      "execution_count": null,
      "metadata": {
        "id": "DKnHpPMbgbLl",
        "vscode": {
          "languageId": "python"
        }
      },
      "outputs": [],
      "source": [
        "#Выводим для примера картинки по каждому классу\n",
        "\n",
        "xTestReal10 = [] #Создаем x_test для загруженных картинок\n",
        "yTestReal10 = [] #Создаем y_test для классов изображений\n",
        "\n",
        "for i in range(10): #Проходим по классам от 0 до 9\n",
        "  img_path = 'Images/' + str(i) + '.jpg' #Определяем имя изображения\n",
        "  #Загружаем изображение, изменяя его размер на размер входного массива нейросети\n",
        "  #Другими словами, подгоняем изображение к размеру картинок, на которых обучалась сеть\n",
        "\n",
        "  xTestReal10.append(np.asarray(image.load_img(img_path, grayscale=False, target_size=(32, 32)))) #Добавляем изображение в выборку\n",
        "  yTestReal10.append(i) #Добавляем в y номера классов\n",
        "\n",
        "xTestReal10 = np.array(xTestReal10) #Преобразуем в Numpy array\n",
        "yTestReal10 = np.array(yTestReal10) #Преобразуем в Numpy array"
      ]
    },
    {
      "cell_type": "code",
      "execution_count": null,
      "metadata": {
        "id": "Ts9127ttgbLn",
        "vscode": {
          "languageId": "python"
        }
      },
      "outputs": [],
      "source": [
        "#Выводим для примера картинки по каждому классу\n",
        "\n",
        "fig, axs = plt.subplots(1, 10, figsize=(25, 3)) #Создаем полотно из 10 графиков\n",
        "for i in range(10): #Проходим по классам от 0 до 9\n",
        "  axs[i].imshow(Image.fromarray(xTestReal10[i]).convert('RGB')) #Конвертируем изображение в черно-белый формат и отображаем i-ым графиков\n",
        "\n",
        "plt.show() #Показываем изображения"
      ]
    },
    {
      "cell_type": "code",
      "execution_count": null,
      "metadata": {
        "id": "SIQ9AZ-BgbLq",
        "vscode": {
          "languageId": "python"
        }
      },
      "outputs": [],
      "source": [
        "xTestReal10.shape #Посмотрим на размер массива, чтобы убедиться, что все сделали правильно"
      ]
    },
    {
      "cell_type": "code",
      "execution_count": null,
      "metadata": {
        "id": "oGr2CYjTgbLs",
        "vscode": {
          "languageId": "python"
        }
      },
      "outputs": [],
      "source": [
        "prediction = model.predict(xTestReal10) #Классифицируем каждое изображение\n",
        "for i in range(10): #Проходим по картинкам\n",
        "  #Вводим результаты на экран\n",
        "  print(\"Распознанный образ:\", classes[np.argmax(prediction[i])])\n",
        "  print('Верный ответ:', classes[yTestReal10[i]])\n",
        "  print()"
      ]
    },
    {
      "cell_type": "markdown",
      "metadata": {
        "id": "wpGW1AOhpR7_"
      },
      "source": [
        "#Распознавание изображений из набора данных Cifar100\n",
        "\n",
        "*Разбор данного раздела:* https://youtu.be/shzJQxepN-s?t=6753"
      ]
    },
    {
      "cell_type": "code",
      "execution_count": null,
      "metadata": {
        "colab": {
          "base_uri": "https://localhost:8080/",
          "height": 51
        },
        "id": "OJkvdtT_oyqo",
        "outputId": "b78d1fe3-db1a-454f-aaf6-08fe0b9956aa",
        "vscode": {
          "languageId": "python"
        }
      },
      "outputs": [
        {
          "name": "stdout",
          "output_type": "stream",
          "text": [
            "Downloading data from https://www.cs.toronto.edu/~kriz/cifar-100-python.tar.gz\n",
            "169009152/169001437 [==============================] - 13s 0us/step\n"
          ]
        }
      ],
      "source": [
        "#Загружаем cifar100\n",
        "(x_train100, y_train100), (x_test100, y_test100) = cifar100.load_data()"
      ]
    },
    {
      "cell_type": "code",
      "execution_count": null,
      "metadata": {
        "colab": {
          "base_uri": "https://localhost:8080/",
          "height": 168
        },
        "id": "5y9xbdA-oyqt",
        "outputId": "4e944174-3fd7-4e92-914d-d0eab14ae433",
        "vscode": {
          "languageId": "python"
        }
      },
      "outputs": [
        {
          "data": {
            "image/png": "[encoded data removed]",
            "text/plain": [
              "<Figure size 1800x216 with 10 Axes>"
            ]
          },
          "metadata": {
            "needs_background": "light",
            "tags": []
          },
          "output_type": "display_data"
        }
      ],
      "source": [
        "#Выводим для примера картинки по первым 10 классам\n",
        "\n",
        "fig, axs = plt.subplots(1, 10, figsize=(25, 3)) #Создаем полотно из 10 графиков\n",
        "for i in range(10): #Проходим по классам от 0 до 9\n",
        "  label_indexes = np.where(y_train100==i)[0] #Получаем список из индексов положений класса i в y_train\n",
        "  index = random.choice(label_indexes) #Случайным образом выбираем из списка индекс\n",
        "  img = x_train100[index] #Выбираем из x_train нужное изображение\n",
        "  axs[i].imshow(Image.fromarray(img)) #Отображаем изображение i-ым графиков\n",
        "\n",
        "plt.show() #Показываем изображения"
      ]
    },
    {
      "cell_type": "code",
      "execution_count": null,
      "metadata": {
        "id": "sHng7EIZoyqw",
        "vscode": {
          "languageId": "python"
        }
      },
      "outputs": [],
      "source": [
        "#Превращаем y_train и y_test сетей в формат one hot encoding\n",
        "y_train100 = utils.to_categorical(y_train100, 100)\n",
        "y_test100 = utils.to_categorical(y_test100, 100)"
      ]
    },
    {
      "cell_type": "code",
      "execution_count": null,
      "metadata": {
        "colab": {
          "base_uri": "https://localhost:8080/",
          "height": 85
        },
        "id": "eJ6tzOaIoyqy",
        "outputId": "8389d5a3-3429-483a-8383-53f13bc46057",
        "vscode": {
          "languageId": "python"
        }
      },
      "outputs": [
        {
          "name": "stdout",
          "output_type": "stream",
          "text": [
            "(50000, 32, 32, 3)\n",
            "(10000, 32, 32, 3)\n",
            "(50000, 100)\n",
            "(10000, 100)\n"
          ]
        }
      ],
      "source": [
        "# Посмотрим размеры выборок перед обучением\n",
        "print(x_train100.shape)\n",
        "print(x_test100.shape)\n",
        "print(y_train100.shape)\n",
        "print(y_test100.shape)"
      ]
    },
    {
      "cell_type": "markdown",
      "metadata": {
        "id": "GiHfehm2oyq0"
      },
      "source": [
        "**Нейронная сеть**"
      ]
    },
    {
      "cell_type": "code",
      "execution_count": null,
      "metadata": {
        "colab": {
          "base_uri": "https://localhost:8080/",
          "height": 1000
        },
        "id": "W2qNBBSYoyq0",
        "outputId": "4e765974-280a-477f-81b6-fefe94b318e0",
        "vscode": {
          "languageId": "python"
        }
      },
      "outputs": [
        {
          "name": "stdout",
          "output_type": "stream",
          "text": [
            "Epoch 1/40\n",
            "391/391 [==============================] - 5s 13ms/step - loss: 3.8002 - accuracy: 0.1225 - val_loss: 3.3720 - val_accuracy: 0.1935\n",
            "Epoch 2/40\n",
            "391/391 [==============================] - 5s 12ms/step - loss: 3.0914 - accuracy: 0.2415 - val_loss: 2.7427 - val_accuracy: 0.3098\n",
            "Epoch 3/40\n",
            "391/391 [==============================] - 5s 12ms/step - loss: 2.7220 - accuracy: 0.3112 - val_loss: 2.4247 - val_accuracy: 0.3798\n",
            "Epoch 4/40\n",
            "391/391 [==============================] - 5s 12ms/step - loss: 2.4580 - accuracy: 0.3634 - val_loss: 2.2689 - val_accuracy: 0.4026\n",
            "Epoch 5/40\n",
            "391/391 [==============================] - 5s 12ms/step - loss: 2.2670 - accuracy: 0.4024 - val_loss: 2.1645 - val_accuracy: 0.4358\n",
            "Epoch 6/40\n",
            "391/391 [==============================] - 5s 12ms/step - loss: 2.1171 - accuracy: 0.4345 - val_loss: 2.1281 - val_accuracy: 0.4363\n",
            "Epoch 7/40\n",
            "391/391 [==============================] - 5s 12ms/step - loss: 2.0039 - accuracy: 0.4596 - val_loss: 1.9527 - val_accuracy: 0.4804\n",
            "Epoch 8/40\n",
            "391/391 [==============================] - 5s 12ms/step - loss: 1.9066 - accuracy: 0.4820 - val_loss: 1.9488 - val_accuracy: 0.4791\n",
            "Epoch 9/40\n",
            "391/391 [==============================] - 5s 12ms/step - loss: 1.8155 - accuracy: 0.5018 - val_loss: 1.9250 - val_accuracy: 0.4898\n",
            "Epoch 10/40\n",
            "391/391 [==============================] - 5s 12ms/step - loss: 1.7362 - accuracy: 0.5191 - val_loss: 1.9139 - val_accuracy: 0.4913\n",
            "Epoch 11/40\n",
            "391/391 [==============================] - 5s 12ms/step - loss: 1.6589 - accuracy: 0.5370 - val_loss: 1.8412 - val_accuracy: 0.5109\n",
            "Epoch 12/40\n",
            "391/391 [==============================] - 5s 12ms/step - loss: 1.5898 - accuracy: 0.5521 - val_loss: 1.8280 - val_accuracy: 0.5138\n",
            "Epoch 13/40\n",
            "391/391 [==============================] - 5s 12ms/step - loss: 1.5121 - accuracy: 0.5696 - val_loss: 1.8586 - val_accuracy: 0.5090\n",
            "Epoch 14/40\n",
            "391/391 [==============================] - 5s 12ms/step - loss: 1.4487 - accuracy: 0.5864 - val_loss: 1.7794 - val_accuracy: 0.5270\n",
            "Epoch 15/40\n",
            "391/391 [==============================] - 5s 12ms/step - loss: 1.3865 - accuracy: 0.6008 - val_loss: 1.8265 - val_accuracy: 0.5300\n",
            "Epoch 16/40\n",
            "391/391 [==============================] - 5s 12ms/step - loss: 1.3363 - accuracy: 0.6134 - val_loss: 1.8310 - val_accuracy: 0.5204\n",
            "Epoch 17/40\n",
            "391/391 [==============================] - 5s 12ms/step - loss: 1.2805 - accuracy: 0.6278 - val_loss: 1.8544 - val_accuracy: 0.5250\n",
            "Epoch 18/40\n",
            "391/391 [==============================] - 5s 12ms/step - loss: 1.2229 - accuracy: 0.6397 - val_loss: 1.8404 - val_accuracy: 0.5334\n",
            "Epoch 19/40\n",
            "391/391 [==============================] - 5s 12ms/step - loss: 1.1777 - accuracy: 0.6551 - val_loss: 1.8691 - val_accuracy: 0.5257\n",
            "Epoch 20/40\n",
            "391/391 [==============================] - 5s 12ms/step - loss: 1.1256 - accuracy: 0.6677 - val_loss: 1.9196 - val_accuracy: 0.5196\n",
            "Epoch 21/40\n",
            "391/391 [==============================] - 5s 12ms/step - loss: 1.0762 - accuracy: 0.6793 - val_loss: 1.8751 - val_accuracy: 0.5303\n",
            "Epoch 22/40\n",
            "391/391 [==============================] - 5s 12ms/step - loss: 1.0301 - accuracy: 0.6939 - val_loss: 1.9181 - val_accuracy: 0.5265\n",
            "Epoch 23/40\n",
            "391/391 [==============================] - 5s 12ms/step - loss: 0.9984 - accuracy: 0.7035 - val_loss: 1.8861 - val_accuracy: 0.5359\n",
            "Epoch 24/40\n",
            "391/391 [==============================] - 5s 12ms/step - loss: 0.9746 - accuracy: 0.7056 - val_loss: 1.9317 - val_accuracy: 0.5305\n",
            "Epoch 25/40\n",
            "391/391 [==============================] - 5s 12ms/step - loss: 0.9190 - accuracy: 0.7212 - val_loss: 1.9328 - val_accuracy: 0.5392\n",
            "Epoch 26/40\n",
            "391/391 [==============================] - 5s 12ms/step - loss: 0.8852 - accuracy: 0.7327 - val_loss: 1.9420 - val_accuracy: 0.5362\n",
            "Epoch 27/40\n",
            "391/391 [==============================] - 5s 12ms/step - loss: 0.8522 - accuracy: 0.7420 - val_loss: 1.9565 - val_accuracy: 0.5345\n",
            "Epoch 28/40\n",
            "391/391 [==============================] - 5s 12ms/step - loss: 0.8180 - accuracy: 0.7501 - val_loss: 1.9943 - val_accuracy: 0.5262\n",
            "Epoch 29/40\n",
            "391/391 [==============================] - 5s 12ms/step - loss: 0.8032 - accuracy: 0.7550 - val_loss: 2.1099 - val_accuracy: 0.5269\n",
            "Epoch 30/40\n",
            "391/391 [==============================] - 5s 12ms/step - loss: 0.7643 - accuracy: 0.7664 - val_loss: 2.0481 - val_accuracy: 0.5396\n",
            "Epoch 31/40\n",
            "391/391 [==============================] - 5s 12ms/step - loss: 0.7461 - accuracy: 0.7705 - val_loss: 2.0056 - val_accuracy: 0.5379\n",
            "Epoch 32/40\n",
            "391/391 [==============================] - 5s 12ms/step - loss: 0.7023 - accuracy: 0.7843 - val_loss: 2.0275 - val_accuracy: 0.5439\n",
            "Epoch 33/40\n",
            "391/391 [==============================] - 5s 12ms/step - loss: 0.6818 - accuracy: 0.7906 - val_loss: 2.0632 - val_accuracy: 0.5431\n",
            "Epoch 34/40\n",
            "391/391 [==============================] - 5s 12ms/step - loss: 0.6579 - accuracy: 0.7986 - val_loss: 2.0797 - val_accuracy: 0.5493\n",
            "Epoch 35/40\n",
            "391/391 [==============================] - 5s 12ms/step - loss: 0.6419 - accuracy: 0.8033 - val_loss: 2.0834 - val_accuracy: 0.5401\n",
            "Epoch 36/40\n",
            "391/391 [==============================] - 5s 12ms/step - loss: 0.6187 - accuracy: 0.8074 - val_loss: 2.0836 - val_accuracy: 0.5424\n",
            "Epoch 37/40\n",
            "391/391 [==============================] - 5s 12ms/step - loss: 0.6011 - accuracy: 0.8139 - val_loss: 2.1695 - val_accuracy: 0.5368\n",
            "Epoch 38/40\n",
            "391/391 [==============================] - 5s 12ms/step - loss: 0.5849 - accuracy: 0.8181 - val_loss: 2.1992 - val_accuracy: 0.5396\n",
            "Epoch 39/40\n",
            "391/391 [==============================] - 5s 12ms/step - loss: 0.5684 - accuracy: 0.8218 - val_loss: 2.1324 - val_accuracy: 0.5448\n",
            "Epoch 40/40\n",
            "391/391 [==============================] - 5s 12ms/step - loss: 0.5614 - accuracy: 0.8259 - val_loss: 2.1995 - val_accuracy: 0.5393\n"
          ]
        },
        {
          "data": {
            "image/png": "[encoded data removed]",
            "text/plain": [
              "<Figure size 432x288 with 1 Axes>"
            ]
          },
          "metadata": {
            "needs_background": "light",
            "tags": []
          },
          "output_type": "display_data"
        }
      ],
      "source": [
        "#задаём batch_size\n",
        "batch_size = 128 \n",
        "\n",
        "#Создаем последовательную модель\n",
        "model = Sequential()\n",
        "#Слой пакетной нормализации\n",
        "model.add(BatchNormalization(input_shape=(32, 32, 3)))\n",
        "#Первый сверточный слой\n",
        "model.add(Conv2D(32, (3, 3), padding='same', activation='relu'))\n",
        "#Второй сверточный слой\n",
        "model.add(Conv2D(32, (3, 3), padding='same', activation='relu'))\n",
        "#Первый слой подвыборки\n",
        "model.add(MaxPooling2D(pool_size=(2, 2)))\n",
        "#Слой регуляризации Dropout\n",
        "model.add(Dropout(0.25))\n",
        "\n",
        "#Слой пакетной нормализации\n",
        "model.add(BatchNormalization())\n",
        "#Третий сверточный слой\n",
        "model.add(Conv2D(64, (3, 3), padding='same', activation='relu'))\n",
        "#Четвертый сверточный слой\n",
        "model.add(Conv2D(64, (3, 3), padding='same', activation='relu'))\n",
        "#Второй слой подвыборки\n",
        "model.add(MaxPooling2D(pool_size=(2, 2)))\n",
        "#Слой регуляризации Dropout\n",
        "model.add(Dropout(0.25))\n",
        "\n",
        "#Слой пакетной нормализации\n",
        "model.add(BatchNormalization())\n",
        "#Пятый сверточный слой\n",
        "model.add(Conv2D(256, (3, 3), padding='same', activation='relu'))\n",
        "#Шестой сверточный слой\n",
        "model.add(Conv2D(256, (3, 3), padding='same', activation='relu'))\n",
        "#Третий слой подвыборки\n",
        "model.add(MaxPooling2D(pool_size=(2, 2)))\n",
        "#Слой регуляризации Dropout\n",
        "model.add(Dropout(0.25))\n",
        "\n",
        "#Слой преобразования данных из 2D представления в плоское\n",
        "model.add(Flatten())\n",
        "#Полносвязный слой для классификации\n",
        "model.add(Dense(512, activation='relu'))\n",
        "#Слой регуляризации Dropout\n",
        "model.add(Dropout(0.25))\n",
        "#Выходной полносвязный слой\n",
        "model.add(Dense(100, activation='softmax'))\n",
        "\n",
        "#Компилируем сеть\n",
        "model.compile(loss=\"categorical_crossentropy\", optimizer=\"adam\", metrics=[\"accuracy\"])\n",
        "\n",
        "#Обучаем сеть на данных cifar100\n",
        "history = model.fit(x_train100, \n",
        "                    y_train100, \n",
        "                    batch_size=batch_size, \n",
        "                    epochs=40,\n",
        "                    validation_data=(x_test100, y_test100),\n",
        "                    verbose=1)\n",
        "\n",
        "#Оображаем график точности обучения\n",
        "plt.plot(history.history['accuracy'], \n",
        "         label='Доля верных ответов на обучающем наборе')\n",
        "plt.plot(history.history['val_accuracy'], \n",
        "         label='Доля верных ответов на проверочном наборе')\n",
        "plt.xlabel('Эпоха обучения')\n",
        "plt.ylabel('Доля верных ответов')\n",
        "plt.legend()\n",
        "plt.show()"
      ]
    },
    {
      "cell_type": "code",
      "execution_count": null,
      "metadata": {
        "id": "nzFKev01bhJo",
        "vscode": {
          "languageId": "python"
        }
      },
      "outputs": [],
      "source": [
        "model.summary()"
      ]
    },
    {
      "cell_type": "markdown",
      "metadata": {
        "id": "H3NEfs2Kw4AI"
      },
      "source": [
        "#Распознавание марок машин (маленькая база)\n",
        "\n",
        "*Разбор данного раздела:* https://youtu.be/shzJQxepN-s?t=6802"
      ]
    },
    {
      "cell_type": "code",
      "execution_count": null,
      "metadata": {
        "id": "gql75PDpyH7s",
        "vscode": {
          "languageId": "python"
        }
      },
      "outputs": [],
      "source": [
        "!unzip -q \"/content/drive/My Drive/Занятия/Апрельский курс 2020/Занятие №3/middle_fmr.zip\" -d /content/cars #Указываем путь к базе в Google Drive"
      ]
    },
    {
      "cell_type": "markdown",
      "metadata": {
        "id": "KrELNSXFXOTS"
      },
      "source": []
    },
    {
      "cell_type": "code",
      "execution_count": null,
      "metadata": {
        "id": "5ldyrDt5yIyN",
        "vscode": {
          "languageId": "python"
        }
      },
      "outputs": [],
      "source": [
        "train_path = '/content/cars' #Папка с папками картинок, рассортированных по категориям\n",
        "batch_size = 25 #Размер выборки\n",
        "img_width = 96 #Ширина изображения\n",
        "img_height = 54 #Высота изображения"
      ]
    },
    {
      "cell_type": "code",
      "execution_count": null,
      "metadata": {
        "id": "oDDOFCGwyNhW",
        "vscode": {
          "languageId": "python"
        }
      },
      "outputs": [],
      "source": [
        "#Генератор изображений\n",
        "datagen = ImageDataGenerator(\n",
        "    rescale=1. / 255, #Значения цвета меняем на дробные показания\n",
        "    rotation_range=10, #Поворачиваем изображения при генерации выборки\n",
        "    width_shift_range=0.1, #Двигаем изображения по ширине при генерации выборки\n",
        "    height_shift_range=0.1, #Двигаем изображения по высоте при генерации выборки\n",
        "    zoom_range=0.1, #Зумируем изображения при генерации выборки\n",
        "    horizontal_flip=True, #Отключаем отзеркаливание изображений\n",
        "    fill_mode='nearest', #Заполнение пикселей вне границ ввода\n",
        "    validation_split=0.1 #Указываем разделение изображений на обучающую и тестовую выборку\n",
        ")"
      ]
    },
    {
      "cell_type": "code",
      "execution_count": null,
      "metadata": {
        "colab": {
          "base_uri": "https://localhost:8080/",
          "height": 51
        },
        "id": "bSu406K1yOcQ",
        "outputId": "79aa49ea-cb58-4033-99b9-83ebdcc8d14e",
        "vscode": {
          "languageId": "python"
        }
      },
      "outputs": [
        {
          "name": "stdout",
          "output_type": "stream",
          "text": [
            "Found 3086 images belonging to 3 classes.\n",
            "Found 341 images belonging to 3 classes.\n"
          ]
        }
      ],
      "source": [
        "# обучающая выборка\n",
        "train_generator = datagen.flow_from_directory(\n",
        "    train_path, #Путь ко всей выборке выборке\n",
        "    target_size=(img_width, img_height), #Размер изображений\n",
        "    batch_size=batch_size, #Размер batch_size\n",
        "    class_mode='categorical', #Категориальный тип выборки. Разбиение выборки по маркам авто \n",
        "    shuffle=True, #Перемешивание выборки\n",
        "    subset='training' # устанавливаем как набор для обучения\n",
        ")\n",
        "\n",
        "# проверочная выборка\n",
        "validation_generator = datagen.flow_from_directory(\n",
        "    train_path, #Путь ко всей выборке выборке\n",
        "    target_size=(img_width, img_height), #Размер изображений\n",
        "    batch_size=batch_size, #Размер batch_size\n",
        "    class_mode='categorical', #Категориальный тип выборки. Разбиение выборки по маркам авто \n",
        "    shuffle=True, #Перемешивание выборки\n",
        "    subset='validation' # устанавливаем как валидационный набор\n",
        ")"
      ]
    },
    {
      "cell_type": "code",
      "execution_count": null,
      "metadata": {
        "colab": {
          "base_uri": "https://localhost:8080/",
          "height": 281
        },
        "id": "2Sg81ThUyScS",
        "outputId": "124bbe68-e2d3-4e0a-eec5-2591b1761ef3",
        "vscode": {
          "languageId": "python"
        }
      },
      "outputs": [
        {
          "data": {
            "image/png": "[encoded data removed]",
            "text/plain": [
              "<Figure size 1800x360 with 3 Axes>"
            ]
          },
          "metadata": {
            "needs_background": "light",
            "tags": []
          },
          "output_type": "display_data"
        }
      ],
      "source": [
        "#Выводим для примера картинки по каждому классу\n",
        "\n",
        "fig, axs = plt.subplots(1, 3, figsize=(25, 5)) #Создаем полотно из 3 графиков\n",
        "for i in range(3): #Проходим по всем классам\n",
        "  car_path = train_path + '/' + os.listdir(train_path)[i] + '/'#Формируем путь к выборке\n",
        "  img_path = car_path + random.choice(os.listdir(car_path)) #Выбираем случайное фото для отображения\n",
        "  axs[i].imshow(image.load_img(img_path, target_size=(img_height, img_width))) #Отображение фотографии\n",
        "\n",
        "plt.show() #Показываем изображения"
      ]
    },
    {
      "cell_type": "code",
      "execution_count": null,
      "metadata": {
        "id": "TBtq_FEsyVlZ",
        "vscode": {
          "languageId": "python"
        }
      },
      "outputs": [],
      "source": [
        "#Создаем последовательную модель\n",
        "model = Sequential()\n",
        "#Первый сверточный слой\n",
        "model.add(Conv2D(256, (3, 3), padding='same', activation='relu', input_shape=(img_width, img_height, 3)))\n",
        "#Второй сверточный слой\n",
        "model.add(Conv2D(256, (3, 3), padding='same', activation='relu'))\n",
        "model.add(MaxPooling2D(pool_size=(3, 3)))\n",
        "#Третий сверточный слой\n",
        "model.add(Conv2D(256, (3, 3), padding='same', activation='relu'))\n",
        "#Слой регуляризации Dropout\n",
        "model.add(Dropout(0.2))\n",
        "#Четвертый сверточный слой\n",
        "model.add(Conv2D(256, (3, 3), padding='same', activation='relu'))\n",
        "model.add(MaxPooling2D(pool_size=(3, 3)))\n",
        "#Слой регуляризации Dropout\n",
        "model.add(Dropout(0.2))\n",
        "#Пятый сверточный слой\n",
        "model.add(Conv2D(512, (3, 3), padding='same', activation='relu'))\n",
        "#Шестой сверточный слой\n",
        "model.add(Conv2D(1024, (3, 3), padding='same', activation='relu'))\n",
        "model.add(MaxPooling2D(pool_size=(3, 3)))\n",
        "#Слой регуляризации Dropout\n",
        "model.add(Dropout(0.2))\n",
        "#Слой преобразования двумерных данных в одномерные \n",
        "model.add(Flatten())\n",
        "#Полносвязный слой\n",
        "model.add(Dense(2048, activation='relu'))\n",
        "#Полносвязный слой\n",
        "model.add(Dense(4096, activation='relu'))\n",
        "#Вызодной полносвязный слой\n",
        "model.add(Dense(len(train_generator.class_indices), activation='softmax'))\n",
        "\n",
        "model.compile(loss='categorical_crossentropy', optimizer=Adam(lr=0.0001), metrics=['accuracy'])"
      ]
    },
    {
      "cell_type": "code",
      "execution_count": null,
      "metadata": {
        "id": "Ze3yKALByapN",
        "vscode": {
          "languageId": "python"
        }
      },
      "outputs": [],
      "source": [
        "history = model.fit_generator(\n",
        "    train_generator,\n",
        "    steps_per_epoch = train_generator.samples // batch_size,\n",
        "    validation_data = validation_generator, \n",
        "    validation_steps = validation_generator.samples // batch_size,\n",
        "    epochs=45,\n",
        "    verbose=1\n",
        ")"
      ]
    },
    {
      "cell_type": "code",
      "execution_count": null,
      "metadata": {
        "id": "I4zQn5Fd1t2Z",
        "vscode": {
          "languageId": "python"
        }
      },
      "outputs": [],
      "source": [
        "model.summary()"
      ]
    },
    {
      "cell_type": "code",
      "execution_count": null,
      "metadata": {
        "id": "Cp_hnqu5ifn4",
        "vscode": {
          "languageId": "python"
        }
      },
      "outputs": [],
      "source": [
        "#Оображаем график точности обучения\n",
        "plt.plot(history.history['accuracy'], \n",
        "         label='Доля верных ответов на обучающем наборе')\n",
        "plt.plot(history.history['val_accuracy'], \n",
        "         label='Доля верных ответов на проверочном наборе')\n",
        "plt.xlabel('Эпоха обучения')\n",
        "plt.ylabel('Доля верных ответов')\n",
        "plt.legend()\n",
        "plt.show()"
      ]
    },
    {
      "cell_type": "markdown",
      "metadata": {
        "id": "MFXlKjHDc5xM"
      },
      "source": [
        "#Глоссарий"
      ]
    },
    {
      "cell_type": "markdown",
      "metadata": {
        "id": "TvYR3llIc5ty"
      },
      "source": [
        "**Сверточная нейронная сеть** - архитектура нейронных сетей, направленная на решение задачи распознавания образов \n",
        "\n",
        "---\n",
        "\n",
        "**Dense** - полносвязный слой \n",
        "\n",
        "**conv2D** - сверточный слой \n",
        "\n",
        "**MaxPooling2D** - слой объединения для пространственных данных \n",
        "\n",
        "**Dropout** - случайная блокировка нейронов для предотвращения переобучения\n",
        "\n",
        "**BatchNormalization** - слой пакетной нормализации\n",
        "\n",
        "**categorical_crossentropy** - метод определения ошибки нейронной сети для категориальных данных (классов). Категориальная кроссцентропия между выходным результатом и y_train.\n",
        "\n",
        "**Flatten** - слой преобразования двумерных данных в одномерные"
      ]
    },
    {
      "cell_type": "markdown",
      "metadata": {
        "id": "oHxFqiP1p6up"
      },
      "source": [
        "#Литература"
      ]
    },
    {
      "cell_type": "markdown",
      "metadata": {
        "id": "a5MkgzbEp6uq"
      },
      "source": [
        "Для более глубокого понимания использования библиотеки хорошо уметь искать информацию в документациях от разработчика. Официальная документация доступна на английском языке.\n",
        "\n",
        "**Документация Keras** - https://keras.io/ \n",
        "\n",
        "**Русскоязычная документация Keras** - https://ru-keras.com/ \n",
        "\n",
        "Помимо официальной документации можно найти огромное количество полезной информации и в других источниках.\n",
        "\n",
        "**Полезные статьи habr:**\n",
        "\n",
        "https://habr.com/ru/post/348000/\n",
        "\n",
        "https://habr.com/ru/post/309508/"
      ]
    }
  ],
  "metadata": {
    "accelerator": "GPU",
    "colab": {
      "machine_shape": "hm",
      "provenance": []
    },
    "kernelspec": {
      "display_name": "Python 3",
      "name": "python3"
    }
  },
  "nbformat": 4,
  "nbformat_minor": 0
}
